{
 "cells": [
  {
   "cell_type": "markdown",
   "metadata": {},
   "source": [
    "# MARKETING EFFECTIVENESS - GRUPO 1"
   ]
  },
  {
   "cell_type": "markdown",
   "metadata": {},
   "source": [
    "## Importación de las librerías"
   ]
  },
  {
   "cell_type": "code",
   "execution_count": 3,
   "metadata": {},
   "outputs": [],
   "source": [
    "import pandas as pd\n",
    "import numpy as np\n",
    "\n",
    "from pandas import Series, DataFrame\n",
    "\n",
    "# Training and test spliting\n",
    "from sklearn.cross_validation import train_test_split\n",
    "from sklearn import preprocessing\n",
    "\n",
    "# Estimators\n",
    "from sklearn.svm import SVC\n",
    "from sklearn.linear_model import LogisticRegression\n",
    "\n",
    "\n",
    "# Evaluation\n",
    "from sklearn import metrics\n",
    "from sklearn.cross_validation import cross_val_score, KFold, StratifiedKFold\n",
    "from sklearn.metrics import classification_report\n",
    "from sklearn.metrics import roc_curve\n",
    "from sklearn.metrics import roc_auc_score\n",
    "\n",
    "# Optimization\n",
    "from sklearn.grid_search import GridSearchCV\n",
    "\n",
    "# Visualisation\n",
    "import matplotlib.pyplot as plt\n",
    "#sns.set(color_codes=True)\n",
    "\n",
    "%matplotlib inline"
   ]
  },
  {
   "cell_type": "markdown",
   "metadata": {},
   "source": [
    "## Carga de datos "
   ]
  },
  {
   "cell_type": "code",
   "execution_count": 4,
   "metadata": {},
   "outputs": [],
   "source": [
    "df_sample_submission=pd.read_csv('./sample_submission.csv')\n",
    "df_test_novel=pd.read_csv('test_nolabel.csv')\n",
    "df_train=pd.read_csv('train.csv')"
   ]
  },
  {
   "cell_type": "markdown",
   "metadata": {},
   "source": [
    "## Preprocesado de datos"
   ]
  },
  {
   "cell_type": "code",
   "execution_count": 5,
   "metadata": {},
   "outputs": [
    {
     "data": {
      "text/plain": [
       "id                0\n",
       "age               0\n",
       "job               0\n",
       "marital           0\n",
       "education         0\n",
       "default           0\n",
       "housing           0\n",
       "loan              0\n",
       "contact           0\n",
       "month             0\n",
       "day_of_week       0\n",
       "duration          0\n",
       "campaign          0\n",
       "pdays             0\n",
       "previous          0\n",
       "poutcome          0\n",
       "emp.var.rate      0\n",
       "cons.price.idx    0\n",
       "cons.conf.idx     0\n",
       "euribor3m         0\n",
       "nr.employed       0\n",
       "y                 0\n",
       "dtype: int64"
      ]
     },
     "execution_count": 5,
     "metadata": {},
     "output_type": "execute_result"
    }
   ],
   "source": [
    "df_train.isnull().sum()"
   ]
  },
  {
   "cell_type": "code",
   "execution_count": 6,
   "metadata": {},
   "outputs": [
    {
     "data": {
      "text/plain": [
       "['id',\n",
       " 'age',\n",
       " 'job',\n",
       " 'marital',\n",
       " 'education',\n",
       " 'default',\n",
       " 'housing',\n",
       " 'loan',\n",
       " 'contact',\n",
       " 'month',\n",
       " 'day_of_week',\n",
       " 'duration',\n",
       " 'campaign',\n",
       " 'pdays',\n",
       " 'previous',\n",
       " 'poutcome',\n",
       " 'emp.var.rate',\n",
       " 'cons.price.idx',\n",
       " 'cons.conf.idx',\n",
       " 'euribor3m',\n",
       " 'nr.employed']"
      ]
     },
     "execution_count": 6,
     "metadata": {},
     "output_type": "execute_result"
    }
   ],
   "source": [
    "df_test_novel.columns.values.tolist()"
   ]
  },
  {
   "cell_type": "code",
   "execution_count": 7,
   "metadata": {},
   "outputs": [],
   "source": [
    "df_test_novel['job'] = pd.get_dummies(df_test_novel['job'])\n",
    "df_train['job'] = pd.get_dummies(df_train['job'])\n",
    "\n",
    "df_test_novel['marital'] = pd.get_dummies(df_test_novel['marital'])\n",
    "df_train['marital'] = pd.get_dummies(df_train['marital'])\n",
    "\n",
    "df_test_novel['education'] = pd.get_dummies(df_test_novel['education'])\n",
    "df_train['education'] = pd.get_dummies(df_train['education'])\n",
    "\n",
    "df_test_novel['default'] = pd.get_dummies(df_test_novel['default'])\n",
    "df_train['default'] = pd.get_dummies(df_train['default'])\n",
    "\n",
    "df_test_novel['housing'] = pd.get_dummies(df_test_novel['housing'])\n",
    "df_train['housing'] = pd.get_dummies(df_train['housing'])\n",
    "\n",
    "df_test_novel['loan'] = pd.get_dummies(df_test_novel['loan'])\n",
    "df_train['loan'] = pd.get_dummies(df_train['loan'])\n",
    "\n",
    "df_test_novel['contact'] = pd.get_dummies(df_test_novel['contact'])\n",
    "df_train['contact'] = pd.get_dummies(df_train['contact'])\n",
    "\n",
    "df_test_novel['month'] = pd.get_dummies(df_test_novel['month'])\n",
    "df_train['month'] = pd.get_dummies(df_train['month'])\n",
    "\n",
    "df_test_novel['day_of_week'] = pd.get_dummies(df_test_novel['day_of_week'])\n",
    "df_train['day_of_week'] = pd.get_dummies(df_train['day_of_week'])\n",
    "\n",
    "df_test_novel['poutcome'] = pd.get_dummies(df_test_novel['poutcome'])\n",
    "df_train['poutcome'] = pd.get_dummies(df_train['poutcome'])"
   ]
  },
  {
   "cell_type": "code",
   "execution_count": 8,
   "metadata": {},
   "outputs": [
    {
     "data": {
      "text/plain": [
       "['id',\n",
       " 'age',\n",
       " 'job',\n",
       " 'marital',\n",
       " 'education',\n",
       " 'default',\n",
       " 'housing',\n",
       " 'loan',\n",
       " 'contact',\n",
       " 'month',\n",
       " 'day_of_week',\n",
       " 'duration',\n",
       " 'campaign',\n",
       " 'pdays',\n",
       " 'previous',\n",
       " 'poutcome',\n",
       " 'emp.var.rate',\n",
       " 'cons.price.idx',\n",
       " 'cons.conf.idx',\n",
       " 'euribor3m',\n",
       " 'nr.employed']"
      ]
     },
     "execution_count": 8,
     "metadata": {},
     "output_type": "execute_result"
    }
   ],
   "source": [
    "df_test_novel.columns.values.tolist()"
   ]
  },
  {
   "cell_type": "code",
   "execution_count": 11,
   "metadata": {},
   "outputs": [],
   "source": [
    "features=[#'id',\n",
    " 'age',\n",
    " 'job',\n",
    " 'marital',\n",
    " 'education',\n",
    " 'default',\n",
    " 'housing',\n",
    " 'loan',\n",
    " 'contact',\n",
    " 'month',\n",
    " 'day_of_week',\n",
    " 'duration',\n",
    " 'campaign',\n",
    " 'pdays',\n",
    " 'previous',\n",
    " 'poutcome',\n",
    " 'emp.var.rate',\n",
    " 'cons.price.idx',\n",
    " 'cons.conf.idx',\n",
    " 'euribor3m',\n",
    " 'nr.employed']\n",
    "X=df_train[features].values\n",
    "y=df_train['y'].values\n",
    "df_test_novel_transformed = df_test_novel[features].values"
   ]
  },
  {
   "cell_type": "code",
   "execution_count": 13,
   "metadata": {},
   "outputs": [
    {
     "ename": "AttributeError",
     "evalue": "'numpy.ndarray' object has no attribute 'tail'",
     "output_type": "error",
     "traceback": [
      "\u001b[1;31m---------------------------------------------------------------------------\u001b[0m",
      "\u001b[1;31mAttributeError\u001b[0m                            Traceback (most recent call last)",
      "\u001b[1;32m<ipython-input-13-aa30dee7531b>\u001b[0m in \u001b[0;36m<module>\u001b[1;34m()\u001b[0m\n\u001b[1;32m----> 1\u001b[1;33m \u001b[0mdf_test_novel_transformed\u001b[0m\u001b[1;33m.\u001b[0m\u001b[0mtail\u001b[0m\u001b[1;33m(\u001b[0m\u001b[1;33m)\u001b[0m\u001b[1;33m\u001b[0m\u001b[0m\n\u001b[0m",
      "\u001b[1;31mAttributeError\u001b[0m: 'numpy.ndarray' object has no attribute 'tail'"
     ]
    }
   ],
   "source": [
    "df_test_novel_transformed.tail()"
   ]
  },
  {
   "cell_type": "code",
   "execution_count": null,
   "metadata": {},
   "outputs": [],
   "source": [
    "from sklearn.feature_selection import SelectKBest, f_classif\n",
    "kbest=SelectKBest(f_classif,k=6)\n",
    "kbest.fit(df_train[features].values, df_train['y'].values)\n",
    "\n",
    "# Get the raw p-values for each feature, and transform from p-values into scores\n",
    "scores = -np.log10(kbest.pvalues_)\n",
    "\n",
    "# Plot the scores.  See how \"Pclass\", \"Sex\", \"Title\", and \"Fare\" are the best?\n",
    "plt.bar(range(len(features)), scores)\n",
    "plt.xticks(range(len(features)), features, rotation='vertical')\n",
    "plt.show()\n",
    "X = kbest.transform(df_train[features].values)\n",
    "df_test_novel_transformed = kbest.transform(df_test_novel[features].values)\n",
    "X_train, X_test, y_train, y_test = train_test_split(X, y, test_size=0.25, random_state=33)"
   ]
  },
  {
   "cell_type": "markdown",
   "metadata": {},
   "source": [
    "# MLP with genetics"
   ]
  },
  {
   "cell_type": "code",
   "execution_count": null,
   "metadata": {},
   "outputs": [],
   "source": [
    "#Tune parameters\n",
    "from evolutionary_search import EvolutionaryAlgorithmSearchCV\n",
    "import sklearn.datasets\n",
    "import numpy as np\n",
    "import random\n",
    "from sklearn.neural_network import MLPClassifier\n",
    "from sklearn.model_selection import StratifiedKFold\n",
    "\n",
    "activation = ['identity', 'logistic', 'tanh', 'relu']\n",
    "learning_rate = ['constant', 'invscaling', 'adaptive']\n",
    "solver = ['lbfgs', 'sgd', 'adam']\n",
    "learning_rate_init = [0.001,0.003,0.005,0.007,0.01,0.03,0.05,0.07,0.1,0.3,0.5]\n",
    "hidden_layer_sizes = [(20,), (20,20,), (20,20,20,)]\n",
    "max_iter = [100,200,500]\n",
    "\n",
    "\n",
    "param_grid = dict(activation=activation, learning_rate=learning_rate,solver=solver,\n",
    "                  learning_rate_init=learning_rate_init,hidden_layer_sizes=hidden_layer_sizes,max_iter=max_iter)\n",
    "\n",
    "#paramgrid = {\"hidden_layer_sizes\": (100,20,20,20),\n",
    "#            \"gamma\" : np.logspace(-9, 9, num=10, base=10)}\n",
    "cv = EvolutionaryAlgorithmSearchCV(estimator=MLPClassifier(),\n",
    "                                   params=param_grid,\n",
    "                                   scoring=\"accuracy\",\n",
    "                                   cv=StratifiedKFold(n_splits=2),\n",
    "                                   verbose=True,\n",
    "                                   population_size=50,\n",
    "                                   gene_mutation_prob=0.10,\n",
    "                                   tournament_size=3,\n",
    "                                   generations_number=10)\n",
    "                                   #pmap = pool.map)\n",
    "cv.fit(X_train, y_train)"
   ]
  },
  {
   "cell_type": "code",
   "execution_count": null,
   "metadata": {},
   "outputs": [],
   "source": [
    "print(\"Best score:{} , Best param:{}\".format(cv.best_score_, cv.best_params_))"
   ]
  },
  {
   "cell_type": "code",
   "execution_count": null,
   "metadata": {},
   "outputs": [],
   "source": [
    "model = MLPClassifier(hidden_layer_sizes=(20),activation='tanh',learning_rate='constant',\n",
    "                    solver='adam',learning_rate_init=0.001)"
   ]
  },
  {
   "cell_type": "code",
   "execution_count": null,
   "metadata": {},
   "outputs": [],
   "source": [
    "model.fit(X_train,y_train)"
   ]
  },
  {
   "cell_type": "code",
   "execution_count": null,
   "metadata": {},
   "outputs": [],
   "source": [
    "from sklearn.metrics import f1_score\n",
    "score = f1_score(y_test, model.predict(X_test), average=None)\n",
    "print(\"score: {}\".format(score))"
   ]
  },
  {
   "cell_type": "markdown",
   "metadata": {},
   "source": [
    "# Realizar predicción para Kaggle"
   ]
  },
  {
   "cell_type": "code",
   "execution_count": null,
   "metadata": {},
   "outputs": [],
   "source": [
    "#Realizar prediccion\n",
    "model.fit(X,y)\n",
    "predicted = model.predict(df_test_novel_transformed)\n",
    "output = pd.DataFrame( data={\"id\":df_test_novel.id, \"y\":predicted} )\n",
    "output_order = ['id','y']\n",
    "output[output_order].to_csv('Labels.csv', index=False, quoting=3)"
   ]
  }
 ],
 "metadata": {
  "kernelspec": {
   "display_name": "Python 3",
   "language": "python",
   "name": "python3"
  },
  "language_info": {
   "codemirror_mode": {
    "name": "ipython",
    "version": 3
   },
   "file_extension": ".py",
   "mimetype": "text/x-python",
   "name": "python",
   "nbconvert_exporter": "python",
   "pygments_lexer": "ipython3",
   "version": "3.5.4"
  }
 },
 "nbformat": 4,
 "nbformat_minor": 2
}
