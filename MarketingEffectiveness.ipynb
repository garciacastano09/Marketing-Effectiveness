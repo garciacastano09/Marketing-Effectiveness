{
 "cells": [
  {
   "cell_type": "markdown",
   "metadata": {},
   "source": [
    "# MARKETING EFFECTIVENESS - GRUPO 1"
   ]
  },
  {
   "cell_type": "markdown",
   "metadata": {},
   "source": [
    "## Importación de las librerías"
   ]
  },
  {
   "cell_type": "markdown",
   "metadata": {},
   "source": [
    "### import pandas as pd\n",
    "import numpy as np\n",
    "\n",
    "from pandas import Series, DataFrame\n",
    "\n",
    "# Training and test spliting\n",
    "from sklearn.cross_validation import train_test_split\n",
    "from sklearn import preprocessing\n",
    "\n",
    "# Estimators\n",
    "from sklearn.svm import SVC\n",
    "from sklearn.linear_model import LogisticRegression\n",
    "\n",
    "\n",
    "# Evaluation\n",
    "from sklearn import metrics\n",
    "from sklearn.cross_validation import cross_val_score, KFold, StratifiedKFold\n",
    "from sklearn.metrics import classification_report\n",
    "from sklearn.metrics import roc_curve\n",
    "from sklearn.metrics import roc_auc_score\n",
    "from sklearn.tree import DecisionTreeClassifier\n",
    "\n",
    "# Optimization\n",
    "from sklearn.grid_search import GridSearchCV\n",
    "\n",
    "# Visualisation\n",
    "import seaborn as sns\n",
    "import matplotlib.pyplot as plt\n",
    "sns.set(color_codes=True)\n",
    "\n",
    "from sklearn.feature_selection import SelectKBest, f_classif\n",
    "\n",
    "%matplotlib inline"
   ]
  },
  {
   "cell_type": "markdown",
   "metadata": {},
   "source": [
    "# Carga de Datos"
   ]
  },
  {
   "cell_type": "code",
   "execution_count": 2,
   "metadata": {},
   "outputs": [
    {
     "data": {
      "text/html": [
       "<div>\n",
       "<style scoped>\n",
       "    .dataframe tbody tr th:only-of-type {\n",
       "        vertical-align: middle;\n",
       "    }\n",
       "\n",
       "    .dataframe tbody tr th {\n",
       "        vertical-align: top;\n",
       "    }\n",
       "\n",
       "    .dataframe thead th {\n",
       "        text-align: right;\n",
       "    }\n",
       "</style>\n",
       "<table border=\"1\" class=\"dataframe\">\n",
       "  <thead>\n",
       "    <tr style=\"text-align: right;\">\n",
       "      <th></th>\n",
       "      <th>id</th>\n",
       "      <th>age</th>\n",
       "      <th>job</th>\n",
       "      <th>marital</th>\n",
       "      <th>education</th>\n",
       "      <th>default</th>\n",
       "      <th>housing</th>\n",
       "      <th>loan</th>\n",
       "      <th>contact</th>\n",
       "      <th>month</th>\n",
       "      <th>...</th>\n",
       "      <th>campaign</th>\n",
       "      <th>pdays</th>\n",
       "      <th>previous</th>\n",
       "      <th>poutcome</th>\n",
       "      <th>emp.var.rate</th>\n",
       "      <th>cons.price.idx</th>\n",
       "      <th>cons.conf.idx</th>\n",
       "      <th>euribor3m</th>\n",
       "      <th>nr.employed</th>\n",
       "      <th>y</th>\n",
       "    </tr>\n",
       "  </thead>\n",
       "  <tbody>\n",
       "    <tr>\n",
       "      <th>0</th>\n",
       "      <td>44dc8df9</td>\n",
       "      <td>35</td>\n",
       "      <td>admin.</td>\n",
       "      <td>married</td>\n",
       "      <td>high.school</td>\n",
       "      <td>unknown</td>\n",
       "      <td>no</td>\n",
       "      <td>no</td>\n",
       "      <td>telephone</td>\n",
       "      <td>jul</td>\n",
       "      <td>...</td>\n",
       "      <td>1</td>\n",
       "      <td>999</td>\n",
       "      <td>0</td>\n",
       "      <td>nonexistent</td>\n",
       "      <td>1.4</td>\n",
       "      <td>93.918</td>\n",
       "      <td>-42.7</td>\n",
       "      <td>4.963</td>\n",
       "      <td>5228.1</td>\n",
       "      <td>0</td>\n",
       "    </tr>\n",
       "    <tr>\n",
       "      <th>1</th>\n",
       "      <td>3f62aa06</td>\n",
       "      <td>52</td>\n",
       "      <td>technician</td>\n",
       "      <td>married</td>\n",
       "      <td>basic.9y</td>\n",
       "      <td>no</td>\n",
       "      <td>no</td>\n",
       "      <td>no</td>\n",
       "      <td>telephone</td>\n",
       "      <td>jun</td>\n",
       "      <td>...</td>\n",
       "      <td>1</td>\n",
       "      <td>999</td>\n",
       "      <td>0</td>\n",
       "      <td>nonexistent</td>\n",
       "      <td>1.4</td>\n",
       "      <td>94.465</td>\n",
       "      <td>-41.8</td>\n",
       "      <td>4.967</td>\n",
       "      <td>5228.1</td>\n",
       "      <td>0</td>\n",
       "    </tr>\n",
       "    <tr>\n",
       "      <th>2</th>\n",
       "      <td>34bd6148</td>\n",
       "      <td>44</td>\n",
       "      <td>blue-collar</td>\n",
       "      <td>single</td>\n",
       "      <td>basic.9y</td>\n",
       "      <td>no</td>\n",
       "      <td>no</td>\n",
       "      <td>no</td>\n",
       "      <td>cellular</td>\n",
       "      <td>may</td>\n",
       "      <td>...</td>\n",
       "      <td>4</td>\n",
       "      <td>999</td>\n",
       "      <td>1</td>\n",
       "      <td>failure</td>\n",
       "      <td>-1.8</td>\n",
       "      <td>92.893</td>\n",
       "      <td>-46.2</td>\n",
       "      <td>1.244</td>\n",
       "      <td>5099.1</td>\n",
       "      <td>0</td>\n",
       "    </tr>\n",
       "    <tr>\n",
       "      <th>3</th>\n",
       "      <td>e1671cba</td>\n",
       "      <td>35</td>\n",
       "      <td>admin.</td>\n",
       "      <td>married</td>\n",
       "      <td>high.school</td>\n",
       "      <td>no</td>\n",
       "      <td>yes</td>\n",
       "      <td>yes</td>\n",
       "      <td>telephone</td>\n",
       "      <td>jun</td>\n",
       "      <td>...</td>\n",
       "      <td>9</td>\n",
       "      <td>999</td>\n",
       "      <td>0</td>\n",
       "      <td>nonexistent</td>\n",
       "      <td>1.4</td>\n",
       "      <td>94.465</td>\n",
       "      <td>-41.8</td>\n",
       "      <td>4.959</td>\n",
       "      <td>5228.1</td>\n",
       "      <td>0</td>\n",
       "    </tr>\n",
       "    <tr>\n",
       "      <th>4</th>\n",
       "      <td>c20477f0</td>\n",
       "      <td>33</td>\n",
       "      <td>technician</td>\n",
       "      <td>married</td>\n",
       "      <td>university.degree</td>\n",
       "      <td>no</td>\n",
       "      <td>yes</td>\n",
       "      <td>no</td>\n",
       "      <td>cellular</td>\n",
       "      <td>jul</td>\n",
       "      <td>...</td>\n",
       "      <td>7</td>\n",
       "      <td>999</td>\n",
       "      <td>0</td>\n",
       "      <td>nonexistent</td>\n",
       "      <td>1.4</td>\n",
       "      <td>93.918</td>\n",
       "      <td>-42.7</td>\n",
       "      <td>4.968</td>\n",
       "      <td>5228.1</td>\n",
       "      <td>0</td>\n",
       "    </tr>\n",
       "  </tbody>\n",
       "</table>\n",
       "<p>5 rows × 22 columns</p>\n",
       "</div>"
      ],
      "text/plain": [
       "         id  age          job  marital          education  default housing  \\\n",
       "0  44dc8df9   35       admin.  married        high.school  unknown      no   \n",
       "1  3f62aa06   52   technician  married           basic.9y       no      no   \n",
       "2  34bd6148   44  blue-collar   single           basic.9y       no      no   \n",
       "3  e1671cba   35       admin.  married        high.school       no     yes   \n",
       "4  c20477f0   33   technician  married  university.degree       no     yes   \n",
       "\n",
       "  loan    contact month ... campaign  pdays  previous     poutcome  \\\n",
       "0   no  telephone   jul ...        1    999         0  nonexistent   \n",
       "1   no  telephone   jun ...        1    999         0  nonexistent   \n",
       "2   no   cellular   may ...        4    999         1      failure   \n",
       "3  yes  telephone   jun ...        9    999         0  nonexistent   \n",
       "4   no   cellular   jul ...        7    999         0  nonexistent   \n",
       "\n",
       "   emp.var.rate cons.price.idx  cons.conf.idx  euribor3m  nr.employed  y  \n",
       "0           1.4         93.918          -42.7      4.963       5228.1  0  \n",
       "1           1.4         94.465          -41.8      4.967       5228.1  0  \n",
       "2          -1.8         92.893          -46.2      1.244       5099.1  0  \n",
       "3           1.4         94.465          -41.8      4.959       5228.1  0  \n",
       "4           1.4         93.918          -42.7      4.968       5228.1  0  \n",
       "\n",
       "[5 rows x 22 columns]"
      ]
     },
     "execution_count": 2,
     "metadata": {},
     "output_type": "execute_result"
    }
   ],
   "source": [
    "df_sample_submission=pd.read_csv('./sample_submission.csv')\n",
    "df_test_novel=pd.read_csv('test_nolabel.csv')\n",
    "df_train=pd.read_csv('train.csv')\n",
    "df_train.head()"
   ]
  },
  {
   "cell_type": "markdown",
   "metadata": {},
   "source": [
    "## Preprocesado de datos"
   ]
  },
  {
   "cell_type": "code",
   "execution_count": 3,
   "metadata": {},
   "outputs": [],
   "source": [
    "df_test_novel['job'] = pd.get_dummies(df_test_novel['job'])\n",
    "df_train['job'] = pd.get_dummies(df_train['job'])\n",
    "\n",
    "df_test_novel['marital'] = pd.get_dummies(df_test_novel['marital'])\n",
    "df_train['marital'] = pd.get_dummies(df_train['marital'])\n",
    "\n",
    "df_test_novel['education'] = pd.get_dummies(df_test_novel['education'])\n",
    "df_train['education'] = pd.get_dummies(df_train['education'])\n",
    "\n",
    "df_test_novel['default'] = pd.get_dummies(df_test_novel['default'])\n",
    "df_train['default'] = pd.get_dummies(df_train['default'])\n",
    "\n",
    "df_test_novel['housing'] = pd.get_dummies(df_test_novel['housing'])\n",
    "df_train['housing'] = pd.get_dummies(df_train['housing'])\n",
    "\n",
    "df_test_novel['loan'] = pd.get_dummies(df_test_novel['loan'])\n",
    "df_train['loan'] = pd.get_dummies(df_train['loan'])\n",
    "\n",
    "df_test_novel['contact'] = pd.get_dummies(df_test_novel['contact'])\n",
    "df_train['contact'] = pd.get_dummies(df_train['contact'])\n",
    "\n",
    "df_test_novel['month'] = pd.get_dummies(df_test_novel['month'])\n",
    "df_train['month'] = pd.get_dummies(df_train['month'])\n",
    "\n",
    "df_test_novel['day_of_week'] = pd.get_dummies(df_test_novel['day_of_week'])\n",
    "df_train['day_of_week'] = pd.get_dummies(df_train['day_of_week'])\n",
    "\n",
    "df_test_novel['poutcome'] = pd.get_dummies(df_test_novel['poutcome'])\n",
    "df_train['poutcome'] = pd.get_dummies(df_train['poutcome'])"
   ]
  },
  {
   "cell_type": "code",
   "execution_count": 4,
   "metadata": {},
   "outputs": [],
   "source": [
    "features=[#'id',\n",
    " 'age',\n",
    " 'job',\n",
    " 'marital',\n",
    " 'education',\n",
    " 'default',\n",
    " 'housing',\n",
    " 'loan',\n",
    " 'contact',\n",
    " 'month',\n",
    " 'day_of_week',\n",
    " 'duration',\n",
    " 'campaign',\n",
    " 'pdays',\n",
    " 'previous',\n",
    " 'poutcome',\n",
    " 'emp.var.rate',\n",
    " 'cons.price.idx',\n",
    " 'cons.conf.idx',\n",
    " 'euribor3m',\n",
    " 'nr.employed']"
   ]
  },
  {
   "cell_type": "code",
   "execution_count": 5,
   "metadata": {},
   "outputs": [],
   "source": [
    "X = df_train[features].values\n",
    "y = df_train['y'].values"
   ]
  },
  {
   "cell_type": "markdown",
   "metadata": {},
   "source": [
    "### With K-BEST = 6"
   ]
  },
  {
   "cell_type": "code",
   "execution_count": 6,
   "metadata": {},
   "outputs": [
    {
     "name": "stderr",
     "output_type": "stream",
     "text": [
      "/Users/jgc/anaconda3/lib/python3.6/site-packages/ipykernel_launcher.py:4: RuntimeWarning: divide by zero encountered in log10\n",
      "  after removing the cwd from sys.path.\n"
     ]
    },
    {
     "data": {
      "image/png": "[encoded data removed]",
      "text/plain": [
       "<matplotlib.figure.Figure at 0x10f2f33c8>"
      ]
     },
     "metadata": {},
     "output_type": "display_data"
    }
   ],
   "source": [
    "kbest=SelectKBest(f_classif,k=6)\n",
    "kbest.fit_transform(X, y)\n",
    "\n",
    "scores = -np.log10(kbest.pvalues_)\n",
    "\n",
    "X_k = kbest.transform(df_train[features].values)\n",
    "\n",
    "df_test_novel_transformed = kbest.transform(df_test_novel[features].values)\n",
    "X_train_k, X_test_k, y_train_k, y_test_k = train_test_split(X_k, y, test_size=0.25, random_state=33)\n",
    "\n",
    "plt.bar(range(len(features)), scores)\n",
    "plt.xticks(range(len(features)), features, rotation='vertical')\n",
    "plt.show()"
   ]
  },
  {
   "cell_type": "markdown",
   "metadata": {},
   "source": [
    "### No K-BEST"
   ]
  },
  {
   "cell_type": "code",
   "execution_count": 7,
   "metadata": {},
   "outputs": [],
   "source": [
    "df_test_novel_orig = df_test_novel[features].values\n",
    "X_train, X_test, y_train, y_test = train_test_split(X, y, test_size=0.25, random_state=33)"
   ]
  },
  {
   "cell_type": "markdown",
   "metadata": {
    "collapsed": true
   },
   "source": [
    "## DecisionTreeClassifier - K-BEST = 6"
   ]
  },
  {
   "cell_type": "markdown",
   "metadata": {},
   "source": [
    "### Optimization - Grid Search"
   ]
  },
  {
   "cell_type": "code",
   "execution_count": 8,
   "metadata": {},
   "outputs": [
    {
     "name": "stdout",
     "output_type": "stream",
     "text": [
      "Best score:  0.9144836225636491\n",
      "Best params:  {'class_weight': None, 'criterion': 'entropy', 'max_depth': 6, 'max_features': None, 'max_leaf_nodes': 24}\n"
     ]
    }
   ],
   "source": [
    "param_grid = {\n",
    "    'max_depth': np.arange(1, 10), \n",
    "    'max_leaf_nodes': np.arange(2, 30),\n",
    "    'criterion': [\"gini\", \"entropy\"],\n",
    "    'class_weight': [\"balanced\", None],\n",
    "    'max_features': [\"auto\", \"sqrt\", \"log2\", None]\n",
    "} \n",
    "\n",
    "gs_k = GridSearchCV(DecisionTreeClassifier(), param_grid)\n",
    "\n",
    "gs_k.fit(X_train_k, y_train_k)\n",
    "print(\"Best score: \", gs_k.best_score_)\n",
    "print(\"Best params: \", gs_k.best_params_)"
   ]
  },
  {
   "cell_type": "markdown",
   "metadata": {},
   "source": [
    "### Training"
   ]
  },
  {
   "cell_type": "code",
   "execution_count": 10,
   "metadata": {},
   "outputs": [
    {
     "name": "stdout",
     "output_type": "stream",
     "text": [
      "\n",
      "Cross Val Score: [0.90683024 0.91511936 0.91144279]\n",
      "Model Score: 0.9161047861169448\n"
     ]
    }
   ],
   "source": [
    "model_k = DecisionTreeClassifier(\n",
    "    class_weight=gs_k.best_params_[\"class_weight\"], \n",
    "    max_leaf_nodes=gs_k.best_params_[\"max_leaf_nodes\"], \n",
    "    max_depth=gs_k.best_params_[\"max_depth\"],\n",
    "    criterion=gs_k.best_params_[\"criterion\"],\n",
    "    max_features=gs_k.best_params_[\"max_features\"]\n",
    ")\n",
    "\n",
    "# model_k.fit(X_train_k, y_train_k) # Training with the train subset\n",
    "model_k.fit(X_k, y) # Training with the the whole set\n",
    "\n",
    "print()\n",
    "print(\"Cross Val Score: \"+str(cross_val_score(model_k, X_test_k, y_test_k)))\n",
    "print(\"Model Score: \"+str(model_k.score(X_test_k, y_test_k)))"
   ]
  },
  {
   "cell_type": "code",
   "execution_count": 11,
   "metadata": {},
   "outputs": [],
   "source": [
    "# RESULT FROM GRID SEARCH:\n",
    "# Best score:  0.9144836225636491\n",
    "# Best params:  {'class_weight': None, 'criterion': 'entropy', 'max_depth': 6, 'max_features': None, 'max_leaf_nodes': 24}\n",
    "\n",
    "# UNCOMMENT BELOW FOR TRAINING WITHOUT GRID SEARCH\n",
    "\n",
    "# model_k = DecisionTreeClassifier(class_weight=None,max_leaf_nodes=24,max_depth=6,criterion=\"entropy\",max_features=None)\n",
    "# model_k.fit(X_train_k, y_train_k) # Training with the train subset\n",
    "# model_k.fit(X_k, y) # Training with the the whole set\n",
    "# print(\"Cross Val Score: \"+str(cross_val_score(model_k, X_test_k, y_test_k)))\n",
    "# print(\"Model Score: \"+str(model_k.score(X_test_k, y_test_k)))"
   ]
  },
  {
   "cell_type": "markdown",
   "metadata": {},
   "source": [
    "### Realizar predicción para Kaggle"
   ]
  },
  {
   "cell_type": "code",
   "execution_count": 12,
   "metadata": {},
   "outputs": [
    {
     "data": {
      "text/html": [
       "<div>\n",
       "<style scoped>\n",
       "    .dataframe tbody tr th:only-of-type {\n",
       "        vertical-align: middle;\n",
       "    }\n",
       "\n",
       "    .dataframe tbody tr th {\n",
       "        vertical-align: top;\n",
       "    }\n",
       "\n",
       "    .dataframe thead th {\n",
       "        text-align: right;\n",
       "    }\n",
       "</style>\n",
       "<table border=\"1\" class=\"dataframe\">\n",
       "  <thead>\n",
       "    <tr style=\"text-align: right;\">\n",
       "      <th></th>\n",
       "      <th>id</th>\n",
       "      <th>y</th>\n",
       "    </tr>\n",
       "  </thead>\n",
       "  <tbody>\n",
       "    <tr>\n",
       "      <th>0</th>\n",
       "      <td>897212bf</td>\n",
       "      <td>0</td>\n",
       "    </tr>\n",
       "    <tr>\n",
       "      <th>1</th>\n",
       "      <td>2ad6d4ae</td>\n",
       "      <td>0</td>\n",
       "    </tr>\n",
       "    <tr>\n",
       "      <th>2</th>\n",
       "      <td>a193003e</td>\n",
       "      <td>0</td>\n",
       "    </tr>\n",
       "    <tr>\n",
       "      <th>3</th>\n",
       "      <td>3f639630</td>\n",
       "      <td>0</td>\n",
       "    </tr>\n",
       "    <tr>\n",
       "      <th>4</th>\n",
       "      <td>dfe76b9d</td>\n",
       "      <td>0</td>\n",
       "    </tr>\n",
       "  </tbody>\n",
       "</table>\n",
       "</div>"
      ],
      "text/plain": [
       "         id  y\n",
       "0  897212bf  0\n",
       "1  2ad6d4ae  0\n",
       "2  a193003e  0\n",
       "3  3f639630  0\n",
       "4  dfe76b9d  0"
      ]
     },
     "execution_count": 12,
     "metadata": {},
     "output_type": "execute_result"
    }
   ],
   "source": [
    "predicted = model_k.predict(df_test_novel_transformed)\n",
    "output = pd.DataFrame( data={\"id\":df_test_novel.id, \"y\":predicted} )\n",
    "output_order = ['id','y']\n",
    "output[output_order].to_csv('Labels_k.csv', index=False, quoting=3)\n",
    "output.head()"
   ]
  },
  {
   "cell_type": "markdown",
   "metadata": {
    "collapsed": true
   },
   "source": [
    "## DecisionTreeClassifier - No K-BEST"
   ]
  },
  {
   "cell_type": "markdown",
   "metadata": {},
   "source": [
    "### Optimization - Grid Search"
   ]
  },
  {
   "cell_type": "code",
   "execution_count": 13,
   "metadata": {},
   "outputs": [
    {
     "name": "stdout",
     "output_type": "stream",
     "text": [
      "Best score:  0.9149994473306068\n",
      "Best params:  {'class_weight': None, 'criterion': 'gini', 'max_depth': 5, 'max_features': None, 'max_leaf_nodes': 18}\n"
     ]
    }
   ],
   "source": [
    "param_grid = {\n",
    "    'max_depth': np.arange(1, 10), \n",
    "    'max_leaf_nodes': np.arange(2, 30),\n",
    "    'criterion': [\"gini\", \"entropy\"],\n",
    "    'class_weight': [\"balanced\", None],\n",
    "    'max_features': [\"auto\", \"sqrt\", \"log2\", None]\n",
    "} \n",
    "\n",
    "gs = GridSearchCV(DecisionTreeClassifier(), param_grid)\n",
    "\n",
    "gs.fit(X_train, y_train)\n",
    "print(\"Best score: \", gs.best_score_)\n",
    "print(\"Best params: \", gs.best_params_)"
   ]
  },
  {
   "cell_type": "markdown",
   "metadata": {},
   "source": [
    "### Training"
   ]
  },
  {
   "cell_type": "code",
   "execution_count": 14,
   "metadata": {},
   "outputs": [
    {
     "name": "stdout",
     "output_type": "stream",
     "text": [
      "\n",
      "Cross Val Score: [0.90484085 0.9147878  0.91177446]\n",
      "Model Score: 0.9185365314468885\n"
     ]
    }
   ],
   "source": [
    "model = DecisionTreeClassifier(\n",
    "    class_weight=gs.best_params_[\"class_weight\"], \n",
    "    max_leaf_nodes=gs.best_params_[\"max_leaf_nodes\"], \n",
    "    max_depth=gs.best_params_[\"max_depth\"],\n",
    "    criterion=gs.best_params_[\"criterion\"],\n",
    "    max_features=gs.best_params_[\"max_features\"]\n",
    ")\n",
    "\n",
    "# model.fit(X_train, y_train) # Training with the train subset\n",
    "model.fit(X, y) # Training with the the whole set\n",
    "\n",
    "print()\n",
    "print(\"Cross Val Score: \"+str(cross_val_score(model, X_test, y_test)))\n",
    "print(\"Model Score: \"+str(model.score(X_test, y_test)))"
   ]
  },
  {
   "cell_type": "code",
   "execution_count": 15,
   "metadata": {},
   "outputs": [],
   "source": [
    "# RESULT FROM GRID SEARCH:\n",
    "# Best score:  0.9149994473306068\n",
    "# Best params:  {'class_weight': None, 'criterion': 'gini', 'max_depth': 5, 'max_features': None, 'max_leaf_nodes': 18}\n",
    "\n",
    "# UNCOMMENT BELOW FOR TRAINING WITHOUT GRID SEARCH\n",
    "\n",
    "# model = DecisionTreeClassifier(class_weight=None,max_leaf_nodes=18,max_depth=5,criterion=\"gini\",max_features=None)\n",
    "# model.fit(X_train, y_train) # Training with the train subset\n",
    "# model.fit(X, y) # Training with the the whole set\n",
    "# print(\"Cross Val Score: \"+str(cross_val_score(model, X_test, y_test)))\n",
    "# print(\"Model Score: \"+str(model.score(X_test, y_test)))"
   ]
  },
  {
   "cell_type": "code",
   "execution_count": 16,
   "metadata": {},
   "outputs": [],
   "source": [
    "from sklearn.tree import export_graphviz\n",
    "import graphviz \n",
    "\n",
    "dot_data = export_graphviz(model, \n",
    "                            out_file=None, \n",
    "                            filled=True, \n",
    "                            rounded=True)  \n",
    "graph = graphviz.Source(dot_data)  \n",
    "#graph "
   ]
  },
  {
   "cell_type": "markdown",
   "metadata": {},
   "source": [
    "### Realizar predicción para Kaggle"
   ]
  },
  {
   "cell_type": "code",
   "execution_count": 17,
   "metadata": {},
   "outputs": [
    {
     "data": {
      "text/html": [
       "<div>\n",
       "<style scoped>\n",
       "    .dataframe tbody tr th:only-of-type {\n",
       "        vertical-align: middle;\n",
       "    }\n",
       "\n",
       "    .dataframe tbody tr th {\n",
       "        vertical-align: top;\n",
       "    }\n",
       "\n",
       "    .dataframe thead th {\n",
       "        text-align: right;\n",
       "    }\n",
       "</style>\n",
       "<table border=\"1\" class=\"dataframe\">\n",
       "  <thead>\n",
       "    <tr style=\"text-align: right;\">\n",
       "      <th></th>\n",
       "      <th>id</th>\n",
       "      <th>y</th>\n",
       "    </tr>\n",
       "  </thead>\n",
       "  <tbody>\n",
       "    <tr>\n",
       "      <th>0</th>\n",
       "      <td>897212bf</td>\n",
       "      <td>0</td>\n",
       "    </tr>\n",
       "    <tr>\n",
       "      <th>1</th>\n",
       "      <td>2ad6d4ae</td>\n",
       "      <td>0</td>\n",
       "    </tr>\n",
       "    <tr>\n",
       "      <th>2</th>\n",
       "      <td>a193003e</td>\n",
       "      <td>0</td>\n",
       "    </tr>\n",
       "    <tr>\n",
       "      <th>3</th>\n",
       "      <td>3f639630</td>\n",
       "      <td>0</td>\n",
       "    </tr>\n",
       "    <tr>\n",
       "      <th>4</th>\n",
       "      <td>dfe76b9d</td>\n",
       "      <td>0</td>\n",
       "    </tr>\n",
       "  </tbody>\n",
       "</table>\n",
       "</div>"
      ],
      "text/plain": [
       "         id  y\n",
       "0  897212bf  0\n",
       "1  2ad6d4ae  0\n",
       "2  a193003e  0\n",
       "3  3f639630  0\n",
       "4  dfe76b9d  0"
      ]
     },
     "execution_count": 17,
     "metadata": {},
     "output_type": "execute_result"
    }
   ],
   "source": [
    "predicted = model.predict(df_test_novel_orig)\n",
    "output = pd.DataFrame( data={\"id\":df_test_novel.id, \"y\":predicted} )\n",
    "output_order = ['id','y']\n",
    "output[output_order].to_csv('Labels.csv', index=False, quoting=3)\n",
    "output.head()"
   ]
  }
 ],
 "metadata": {
  "kernelspec": {
   "display_name": "Python 3",
   "language": "python",
   "name": "python3"
  },
  "language_info": {
   "codemirror_mode": {
    "name": "ipython",
    "version": 3
   },
   "file_extension": ".py",
   "mimetype": "text/x-python",
   "name": "python",
   "nbconvert_exporter": "python",
   "pygments_lexer": "ipython3",
   "version": "3.6.4"
  }
 },
 "nbformat": 4,
 "nbformat_minor": 2
}
